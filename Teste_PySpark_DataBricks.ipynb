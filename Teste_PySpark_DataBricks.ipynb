{
 "cells": [
  {
   "cell_type": "code",
   "execution_count": 0,
   "metadata": {
    "application/vnd.databricks.v1+cell": {
     "cellMetadata": {
      "byteLimit": 2048000,
      "rowLimit": 10000
     },
     "inputWidgets": {},
     "nuid": "0a691d4f-f50b-4936-9248-61831d15b314",
     "showTitle": false,
     "tableResultSettingsMap": {},
     "title": ""
    }
   },
   "outputs": [
    {
     "output_type": "stream",
     "name": "stdout",
     "output_type": "stream",
     "text": [
      "Hello World\n"
     ]
    }
   ],
   "source": [
    "print(\"Hello World\")"
   ]
  },
  {
   "cell_type": "code",
   "execution_count": 0,
   "metadata": {
    "application/vnd.databricks.v1+cell": {
     "cellMetadata": {
      "byteLimit": 2048000,
      "rowLimit": 10000
     },
     "inputWidgets": {},
     "nuid": "462d63b5-0f69-4003-889d-4af28af84d5c",
     "showTitle": true,
     "tableResultSettingsMap": {},
     "title": "Análise de Dados Stack"
    }
   },
   "outputs": [
    {
     "output_type": "display_data",
     "data": {
      "text/html": [
       "<style scoped>\n",
       "  .table-result-container {\n",
       "    max-height: 300px;\n",
       "    overflow: auto;\n",
       "  }\n",
       "  table, th, td {\n",
       "    border: 1px solid black;\n",
       "    border-collapse: collapse;\n",
       "  }\n",
       "  th, td {\n",
       "    padding: 5px;\n",
       "  }\n",
       "  th {\n",
       "    text-align: left;\n",
       "  }\n",
       "</style><div class='table-result-container'><table class='table-result'><thead style='background-color: white'><tr><th>path</th><th>name</th><th>size</th></tr></thead><tbody><tr><td>dbfs:/databricks-datasets/COVID/</td><td>COVID/</td><td>0</td></tr><tr><td>dbfs:/databricks-datasets/README.md</td><td>README.md</td><td>976</td></tr><tr><td>dbfs:/databricks-datasets/Rdatasets/</td><td>Rdatasets/</td><td>0</td></tr><tr><td>dbfs:/databricks-datasets/SPARK_README.md</td><td>SPARK_README.md</td><td>3359</td></tr><tr><td>dbfs:/databricks-datasets/adult/</td><td>adult/</td><td>0</td></tr><tr><td>dbfs:/databricks-datasets/airlines/</td><td>airlines/</td><td>0</td></tr><tr><td>dbfs:/databricks-datasets/amazon/</td><td>amazon/</td><td>0</td></tr><tr><td>dbfs:/databricks-datasets/asa/</td><td>asa/</td><td>0</td></tr><tr><td>dbfs:/databricks-datasets/atlas_higgs/</td><td>atlas_higgs/</td><td>0</td></tr><tr><td>dbfs:/databricks-datasets/bikeSharing/</td><td>bikeSharing/</td><td>0</td></tr><tr><td>dbfs:/databricks-datasets/cctvVideos/</td><td>cctvVideos/</td><td>0</td></tr><tr><td>dbfs:/databricks-datasets/credit-card-fraud/</td><td>credit-card-fraud/</td><td>0</td></tr><tr><td>dbfs:/databricks-datasets/cs100/</td><td>cs100/</td><td>0</td></tr><tr><td>dbfs:/databricks-datasets/cs110x/</td><td>cs110x/</td><td>0</td></tr><tr><td>dbfs:/databricks-datasets/cs190/</td><td>cs190/</td><td>0</td></tr><tr><td>dbfs:/databricks-datasets/data.gov/</td><td>data.gov/</td><td>0</td></tr><tr><td>dbfs:/databricks-datasets/definitive-guide/</td><td>definitive-guide/</td><td>0</td></tr><tr><td>dbfs:/databricks-datasets/delta-sharing/</td><td>delta-sharing/</td><td>0</td></tr><tr><td>dbfs:/databricks-datasets/flights/</td><td>flights/</td><td>0</td></tr><tr><td>dbfs:/databricks-datasets/flower_photos/</td><td>flower_photos/</td><td>0</td></tr><tr><td>dbfs:/databricks-datasets/flowers/</td><td>flowers/</td><td>0</td></tr><tr><td>dbfs:/databricks-datasets/genomics/</td><td>genomics/</td><td>0</td></tr><tr><td>dbfs:/databricks-datasets/hail/</td><td>hail/</td><td>0</td></tr><tr><td>dbfs:/databricks-datasets/identifying-campaign-effectiveness/</td><td>identifying-campaign-effectiveness/</td><td>0</td></tr><tr><td>dbfs:/databricks-datasets/iot/</td><td>iot/</td><td>0</td></tr><tr><td>dbfs:/databricks-datasets/iot-stream/</td><td>iot-stream/</td><td>0</td></tr><tr><td>dbfs:/databricks-datasets/learning-spark/</td><td>learning-spark/</td><td>0</td></tr><tr><td>dbfs:/databricks-datasets/learning-spark-v2/</td><td>learning-spark-v2/</td><td>0</td></tr><tr><td>dbfs:/databricks-datasets/lending-club-loan-stats/</td><td>lending-club-loan-stats/</td><td>0</td></tr><tr><td>dbfs:/databricks-datasets/med-images/</td><td>med-images/</td><td>0</td></tr><tr><td>dbfs:/databricks-datasets/media/</td><td>media/</td><td>0</td></tr><tr><td>dbfs:/databricks-datasets/mnist-digits/</td><td>mnist-digits/</td><td>0</td></tr><tr><td>dbfs:/databricks-datasets/news20.binary/</td><td>news20.binary/</td><td>0</td></tr><tr><td>dbfs:/databricks-datasets/nyctaxi/</td><td>nyctaxi/</td><td>0</td></tr><tr><td>dbfs:/databricks-datasets/nyctaxi-with-zipcodes/</td><td>nyctaxi-with-zipcodes/</td><td>0</td></tr><tr><td>dbfs:/databricks-datasets/online_retail/</td><td>online_retail/</td><td>0</td></tr><tr><td>dbfs:/databricks-datasets/overlap-join/</td><td>overlap-join/</td><td>0</td></tr><tr><td>dbfs:/databricks-datasets/power-plant/</td><td>power-plant/</td><td>0</td></tr><tr><td>dbfs:/databricks-datasets/retail-org/</td><td>retail-org/</td><td>0</td></tr><tr><td>dbfs:/databricks-datasets/rwe/</td><td>rwe/</td><td>0</td></tr><tr><td>dbfs:/databricks-datasets/sai-summit-2019-sf/</td><td>sai-summit-2019-sf/</td><td>0</td></tr><tr><td>dbfs:/databricks-datasets/sample_logs/</td><td>sample_logs/</td><td>0</td></tr><tr><td>dbfs:/databricks-datasets/samples/</td><td>samples/</td><td>0</td></tr><tr><td>dbfs:/databricks-datasets/sfo_customer_survey/</td><td>sfo_customer_survey/</td><td>0</td></tr><tr><td>dbfs:/databricks-datasets/sms_spam_collection/</td><td>sms_spam_collection/</td><td>0</td></tr><tr><td>dbfs:/databricks-datasets/songs/</td><td>songs/</td><td>0</td></tr><tr><td>dbfs:/databricks-datasets/structured-streaming/</td><td>structured-streaming/</td><td>0</td></tr><tr><td>dbfs:/databricks-datasets/timeseries/</td><td>timeseries/</td><td>0</td></tr><tr><td>dbfs:/databricks-datasets/tpch/</td><td>tpch/</td><td>0</td></tr><tr><td>dbfs:/databricks-datasets/travel_recommendations_realtime/</td><td>travel_recommendations_realtime/</td><td>0</td></tr><tr><td>dbfs:/databricks-datasets/warmup/</td><td>warmup/</td><td>0</td></tr><tr><td>dbfs:/databricks-datasets/weather/</td><td>weather/</td><td>0</td></tr><tr><td>dbfs:/databricks-datasets/wiki/</td><td>wiki/</td><td>0</td></tr><tr><td>dbfs:/databricks-datasets/wikipedia-datasets/</td><td>wikipedia-datasets/</td><td>0</td></tr><tr><td>dbfs:/databricks-datasets/wine-quality/</td><td>wine-quality/</td><td>0</td></tr></tbody></table></div>"
      ]
     },
     "metadata": {
      "application/vnd.databricks.v1+output": {
       "addedWidgets": {},
       "aggData": [],
       "aggError": "",
       "aggOverflow": false,
       "aggSchema": [],
       "aggSeriesLimitReached": false,
       "aggType": "",
       "arguments": {},
       "columnCustomDisplayInfos": {},
       "data": [
        [
         "dbfs:/databricks-datasets/COVID/",
         "COVID/",
         0
        ],
        [
         "dbfs:/databricks-datasets/README.md",
         "README.md",
         976
        ],
        [
         "dbfs:/databricks-datasets/Rdatasets/",
         "Rdatasets/",
         0
        ],
        [
         "dbfs:/databricks-datasets/SPARK_README.md",
         "SPARK_README.md",
         3359
        ],
        [
         "dbfs:/databricks-datasets/adult/",
         "adult/",
         0
        ],
        [
         "dbfs:/databricks-datasets/airlines/",
         "airlines/",
         0
        ],
        [
         "dbfs:/databricks-datasets/amazon/",
         "amazon/",
         0
        ],
        [
         "dbfs:/databricks-datasets/asa/",
         "asa/",
         0
        ],
        [
         "dbfs:/databricks-datasets/atlas_higgs/",
         "atlas_higgs/",
         0
        ],
        [
         "dbfs:/databricks-datasets/bikeSharing/",
         "bikeSharing/",
         0
        ],
        [
         "dbfs:/databricks-datasets/cctvVideos/",
         "cctvVideos/",
         0
        ],
        [
         "dbfs:/databricks-datasets/credit-card-fraud/",
         "credit-card-fraud/",
         0
        ],
        [
         "dbfs:/databricks-datasets/cs100/",
         "cs100/",
         0
        ],
        [
         "dbfs:/databricks-datasets/cs110x/",
         "cs110x/",
         0
        ],
        [
         "dbfs:/databricks-datasets/cs190/",
         "cs190/",
         0
        ],
        [
         "dbfs:/databricks-datasets/data.gov/",
         "data.gov/",
         0
        ],
        [
         "dbfs:/databricks-datasets/definitive-guide/",
         "definitive-guide/",
         0
        ],
        [
         "dbfs:/databricks-datasets/delta-sharing/",
         "delta-sharing/",
         0
        ],
        [
         "dbfs:/databricks-datasets/flights/",
         "flights/",
         0
        ],
        [
         "dbfs:/databricks-datasets/flower_photos/",
         "flower_photos/",
         0
        ],
        [
         "dbfs:/databricks-datasets/flowers/",
         "flowers/",
         0
        ],
        [
         "dbfs:/databricks-datasets/genomics/",
         "genomics/",
         0
        ],
        [
         "dbfs:/databricks-datasets/hail/",
         "hail/",
         0
        ],
        [
         "dbfs:/databricks-datasets/identifying-campaign-effectiveness/",
         "identifying-campaign-effectiveness/",
         0
        ],
        [
         "dbfs:/databricks-datasets/iot/",
         "iot/",
         0
        ],
        [
         "dbfs:/databricks-datasets/iot-stream/",
         "iot-stream/",
         0
        ],
        [
         "dbfs:/databricks-datasets/learning-spark/",
         "learning-spark/",
         0
        ],
        [
         "dbfs:/databricks-datasets/learning-spark-v2/",
         "learning-spark-v2/",
         0
        ],
        [
         "dbfs:/databricks-datasets/lending-club-loan-stats/",
         "lending-club-loan-stats/",
         0
        ],
        [
         "dbfs:/databricks-datasets/med-images/",
         "med-images/",
         0
        ],
        [
         "dbfs:/databricks-datasets/media/",
         "media/",
         0
        ],
        [
         "dbfs:/databricks-datasets/mnist-digits/",
         "mnist-digits/",
         0
        ],
        [
         "dbfs:/databricks-datasets/news20.binary/",
         "news20.binary/",
         0
        ],
        [
         "dbfs:/databricks-datasets/nyctaxi/",
         "nyctaxi/",
         0
        ],
        [
         "dbfs:/databricks-datasets/nyctaxi-with-zipcodes/",
         "nyctaxi-with-zipcodes/",
         0
        ],
        [
         "dbfs:/databricks-datasets/online_retail/",
         "online_retail/",
         0
        ],
        [
         "dbfs:/databricks-datasets/overlap-join/",
         "overlap-join/",
         0
        ],
        [
         "dbfs:/databricks-datasets/power-plant/",
         "power-plant/",
         0
        ],
        [
         "dbfs:/databricks-datasets/retail-org/",
         "retail-org/",
         0
        ],
        [
         "dbfs:/databricks-datasets/rwe/",
         "rwe/",
         0
        ],
        [
         "dbfs:/databricks-datasets/sai-summit-2019-sf/",
         "sai-summit-2019-sf/",
         0
        ],
        [
         "dbfs:/databricks-datasets/sample_logs/",
         "sample_logs/",
         0
        ],
        [
         "dbfs:/databricks-datasets/samples/",
         "samples/",
         0
        ],
        [
         "dbfs:/databricks-datasets/sfo_customer_survey/",
         "sfo_customer_survey/",
         0
        ],
        [
         "dbfs:/databricks-datasets/sms_spam_collection/",
         "sms_spam_collection/",
         0
        ],
        [
         "dbfs:/databricks-datasets/songs/",
         "songs/",
         0
        ],
        [
         "dbfs:/databricks-datasets/structured-streaming/",
         "structured-streaming/",
         0
        ],
        [
         "dbfs:/databricks-datasets/timeseries/",
         "timeseries/",
         0
        ],
        [
         "dbfs:/databricks-datasets/tpch/",
         "tpch/",
         0
        ],
        [
         "dbfs:/databricks-datasets/travel_recommendations_realtime/",
         "travel_recommendations_realtime/",
         0
        ],
        [
         "dbfs:/databricks-datasets/warmup/",
         "warmup/",
         0
        ],
        [
         "dbfs:/databricks-datasets/weather/",
         "weather/",
         0
        ],
        [
         "dbfs:/databricks-datasets/wiki/",
         "wiki/",
         0
        ],
        [
         "dbfs:/databricks-datasets/wikipedia-datasets/",
         "wikipedia-datasets/",
         0
        ],
        [
         "dbfs:/databricks-datasets/wine-quality/",
         "wine-quality/",
         0
        ]
       ],
       "datasetInfos": [],
       "dbfsResultPath": null,
       "isJsonSchema": true,
       "metadata": {},
       "overflow": false,
       "plotOptions": {
        "customPlotOptions": {},
        "displayType": "table",
        "pivotAggregation": null,
        "pivotColumns": null,
        "xColumns": null,
        "yColumns": null
       },
       "removedWidgets": [],
       "schema": [
        {
         "metadata": "{}",
         "name": "path",
         "type": "\"string\""
        },
        {
         "metadata": "{}",
         "name": "name",
         "type": "\"string\""
        },
        {
         "metadata": "{}",
         "name": "size",
         "type": "\"long\""
        }
       ],
       "type": "table"
      }
     },
     "output_type": "display_data"
    }
   ],
   "source": [
    "display(dbutils.fs.ls(\"/databricks-datasets\"))"
   ]
  },
  {
   "cell_type": "code",
   "execution_count": 0,
   "metadata": {
    "application/vnd.databricks.v1+cell": {
     "cellMetadata": {
      "byteLimit": 2048000,
      "rowLimit": 10000
     },
     "inputWidgets": {},
     "nuid": "29d7c5de-677b-42cc-ba2b-1799b2f2e29d",
     "showTitle": false,
     "tableResultSettingsMap": {},
     "title": ""
    }
   },
   "outputs": [],
   "source": [
    "arquivo = \"dbfs:/databricks-datasets/flights/\""
   ]
  },
  {
   "cell_type": "code",
   "execution_count": 0,
   "metadata": {
    "application/vnd.databricks.v1+cell": {
     "cellMetadata": {
      "byteLimit": 2048000,
      "rowLimit": 10000
     },
     "inputWidgets": {},
     "nuid": "f9bafaf1-bede-409c-a3b3-7264b9846322",
     "showTitle": false,
     "tableResultSettingsMap": {},
     "title": ""
    }
   },
   "outputs": [],
   "source": [
    "df = spark\\\n",
    ".read.format(\"csv\")\\\n",
    ".option(\"inferSchema\", \"True\")\\\n",
    ".option(\"header\", \"True\")\\\n",
    ".csv(arquivo)\n"
   ]
  },
  {
   "cell_type": "code",
   "execution_count": 0,
   "metadata": {
    "application/vnd.databricks.v1+cell": {
     "cellMetadata": {
      "byteLimit": 2048000,
      "rowLimit": 10000
     },
     "inputWidgets": {},
     "nuid": "7d982934-fda5-4566-ad35-ad5b3a249f2f",
     "showTitle": false,
     "tableResultSettingsMap": {},
     "title": ""
    }
   },
   "outputs": [
    {
     "output_type": "stream",
     "name": "stdout",
     "output_type": "stream",
     "text": [
      "root\n |-- date: string (nullable = true)\n |-- delay: string (nullable = true)\n |-- distance: string (nullable = true)\n |-- origin: string (nullable = true)\n |-- destination: string (nullable = true)\n\n"
     ]
    }
   ],
   "source": [
    "df.printSchema()"
   ]
  },
  {
   "cell_type": "code",
   "execution_count": 0,
   "metadata": {
    "application/vnd.databricks.v1+cell": {
     "cellMetadata": {
      "byteLimit": 2048000,
      "rowLimit": 10000
     },
     "inputWidgets": {},
     "nuid": "3923362e-0be0-40a9-a742-1050305ad3e0",
     "showTitle": false,
     "tableResultSettingsMap": {},
     "title": ""
    }
   },
   "outputs": [
    {
     "output_type": "stream",
     "name": "stdout",
     "output_type": "stream",
     "text": [
      "Out[74]: pyspark.sql.dataframe.DataFrame"
     ]
    }
   ],
   "source": [
    "type(df)"
   ]
  },
  {
   "cell_type": "code",
   "execution_count": 0,
   "metadata": {
    "application/vnd.databricks.v1+cell": {
     "cellMetadata": {
      "byteLimit": 2048000,
      "rowLimit": 10000
     },
     "inputWidgets": {},
     "nuid": "2e9e3859-6468-42ab-bd0a-2022dd644a57",
     "showTitle": false,
     "tableResultSettingsMap": {},
     "title": ""
    }
   },
   "outputs": [
    {
     "output_type": "stream",
     "name": "stdout",
     "output_type": "stream",
     "text": [
      "Out[75]: [Row(date='01011245', delay='6', distance='602', origin='ABE', destination='ATL'),\n Row(date='01020600', delay='-8', distance='369', origin='ABE', destination='DTW'),\n Row(date='01021245', delay='-2', distance='602', origin='ABE', destination='ATL'),\n Row(date='01020605', delay='-4', distance='602', origin='ABE', destination='ATL'),\n Row(date='01031245', delay='-4', distance='602', origin='ABE', destination='ATL')]"
     ]
    }
   ],
   "source": [
    "df.take(5)"
   ]
  },
  {
   "cell_type": "code",
   "execution_count": 0,
   "metadata": {
    "application/vnd.databricks.v1+cell": {
     "cellMetadata": {
      "byteLimit": 2048000,
      "rowLimit": 10000
     },
     "inputWidgets": {},
     "nuid": "5a68d8b6-4ca1-46df-b62a-56eb52f96353",
     "showTitle": false,
     "tableResultSettingsMap": {},
     "title": ""
    }
   },
   "outputs": [
    {
     "output_type": "stream",
     "name": "stdout",
     "output_type": "stream",
     "text": [
      "+--------+-----+--------+------+-----------+\n|    date|delay|distance|origin|destination|\n+--------+-----+--------+------+-----------+\n|01011245|    6|     602|   ABE|        ATL|\n|01020600|   -8|     369|   ABE|        DTW|\n|01021245|   -2|     602|   ABE|        ATL|\n|01020605|   -4|     602|   ABE|        ATL|\n|01031245|   -4|     602|   ABE|        ATL|\n+--------+-----+--------+------+-----------+\nonly showing top 5 rows\n\n"
     ]
    }
   ],
   "source": [
    "display(df.show(5))"
   ]
  },
  {
   "cell_type": "code",
   "execution_count": 0,
   "metadata": {
    "application/vnd.databricks.v1+cell": {
     "cellMetadata": {
      "byteLimit": 2048000,
      "rowLimit": 10000
     },
     "inputWidgets": {},
     "nuid": "bdb0fe97-3cf3-4755-bf6d-92d997a66250",
     "showTitle": false,
     "tableResultSettingsMap": {},
     "title": ""
    }
   },
   "outputs": [
    {
     "output_type": "stream",
     "name": "stdout",
     "output_type": "stream",
     "text": [
      "Out[77]: 1392106"
     ]
    }
   ],
   "source": [
    "df.count()"
   ]
  },
  {
   "cell_type": "code",
   "execution_count": 0,
   "metadata": {
    "application/vnd.databricks.v1+cell": {
     "cellMetadata": {
      "byteLimit": 2048000,
      "rowLimit": 10000
     },
     "inputWidgets": {},
     "nuid": "c5b2a147-1b66-4565-81eb-0958411f645f",
     "showTitle": false,
     "tableResultSettingsMap": {},
     "title": ""
    }
   },
   "outputs": [],
   "source": [
    "df = spark \\\n",
    ".read \\\n",
    ".option(\"inferSchema\", \"False\") \\\n",
    ".option(\"header\", \"True\") \\\n",
    ".csv(arquivo)"
   ]
  },
  {
   "cell_type": "markdown",
   "metadata": {
    "application/vnd.databricks.v1+cell": {
     "cellMetadata": {
      "byteLimit": 2048000,
      "rowLimit": 10000
     },
     "inputWidgets": {},
     "nuid": "9e0fd7c6-27a3-40fd-852c-53da87ce2d0e",
     "showTitle": false,
     "tableResultSettingsMap": {},
     "title": ""
    }
   },
   "source": [
    "#Consultando dados do dataframe"
   ]
  },
  {
   "cell_type": "code",
   "execution_count": 0,
   "metadata": {
    "application/vnd.databricks.v1+cell": {
     "cellMetadata": {
      "byteLimit": 2048000,
      "rowLimit": 10000
     },
     "inputWidgets": {},
     "nuid": "5b69690e-0c88-47e0-87da-8f79be5ad20b",
     "showTitle": false,
     "tableResultSettingsMap": {},
     "title": ""
    }
   },
   "outputs": [
    {
     "output_type": "stream",
     "name": "stdout",
     "output_type": "stream",
     "text": [
      "Out[79]: [Row(max(delay)='995')]"
     ]
    }
   ],
   "source": [
    "from pyspark.sql.functions import max\n",
    "df.select(max(\"delay\")).take(1)"
   ]
  },
  {
   "cell_type": "code",
   "execution_count": 0,
   "metadata": {
    "application/vnd.databricks.v1+cell": {
     "cellMetadata": {
      "byteLimit": 2048000,
      "rowLimit": 10000
     },
     "inputWidgets": {},
     "nuid": "985b5820-ca3f-4586-9af9-5c120f46f7ea",
     "showTitle": false,
     "tableResultSettingsMap": {},
     "title": ""
    }
   },
   "outputs": [
    {
     "output_type": "stream",
     "name": "stdout",
     "output_type": "stream",
     "text": [
      "+--------+-----+--------+------+-----------+\n|    date|delay|distance|origin|destination|\n+--------+-----+--------+------+-----------+\n|01020600|   -8|     369|   ABE|        DTW|\n|01021245|   -2|     602|   ABE|        ATL|\n+--------+-----+--------+------+-----------+\nonly showing top 2 rows\n\n"
     ]
    }
   ],
   "source": [
    "df.filter(\"delay < 2\").show(2)"
   ]
  },
  {
   "cell_type": "code",
   "execution_count": 0,
   "metadata": {
    "application/vnd.databricks.v1+cell": {
     "cellMetadata": {
      "byteLimit": 2048000,
      "rowLimit": 10000
     },
     "inputWidgets": {},
     "nuid": "3205ef9c-4bd3-4ed0-ba27-c83f103c9bb9",
     "showTitle": false,
     "tableResultSettingsMap": {},
     "title": ""
    }
   },
   "outputs": [
    {
     "output_type": "stream",
     "name": "stdout",
     "output_type": "stream",
     "text": [
      "+--------+-----+--------+------+-----------+\n|    date|delay|distance|origin|destination|\n+--------+-----+--------+------+-----------+\n|01020600|   -8|     369|   ABE|        DTW|\n|01021245|   -2|     602|   ABE|        ATL|\n+--------+-----+--------+------+-----------+\nonly showing top 2 rows\n\n"
     ]
    }
   ],
   "source": [
    "df.where(\"delay < 2\").show(2)"
   ]
  },
  {
   "cell_type": "code",
   "execution_count": 0,
   "metadata": {
    "application/vnd.databricks.v1+cell": {
     "cellMetadata": {
      "byteLimit": 2048000,
      "rowLimit": 10000
     },
     "inputWidgets": {},
     "nuid": "b69876ee-00d9-44a0-a926-12e02e1601c1",
     "showTitle": false,
     "tableResultSettingsMap": {},
     "title": ""
    }
   },
   "outputs": [
    {
     "output_type": "stream",
     "name": "stdout",
     "output_type": "stream",
     "text": [
      "+--------------------+-----+--------+------+-----------+\n|                date|delay|distance|origin|destination|\n+--------------------+-----+--------+------+-----------+\n|Abbotsford\tBC\tCan...| null|    null|  null|       null|\n| Aberdeen\tSD\tUSA\tABR| null|    null|  null|       null|\n|  Abilene\tTX\tUSA\tABI| null|    null|  null|       null|\n|    Akron\tOH\tUSA\tCAK| null|    null|  null|       null|\n|  Alamosa\tCO\tUSA\tALS| null|    null|  null|       null|\n+--------------------+-----+--------+------+-----------+\nonly showing top 5 rows\n\n"
     ]
    }
   ],
   "source": [
    "df.sort(\"delay\").show(5)"
   ]
  },
  {
   "cell_type": "code",
   "execution_count": 0,
   "metadata": {
    "application/vnd.databricks.v1+cell": {
     "cellMetadata": {
      "byteLimit": 2048000,
      "rowLimit": 10000
     },
     "inputWidgets": {},
     "nuid": "6d5211f0-0fab-4089-b6c4-68fb4325e1e9",
     "showTitle": false,
     "tableResultSettingsMap": {},
     "title": ""
    }
   },
   "outputs": [
    {
     "output_type": "stream",
     "name": "stdout",
     "output_type": "stream",
     "text": [
      "+--------------------+-----+--------+------+-----------+\n|                date|delay|distance|origin|destination|\n+--------------------+-----+--------+------+-----------+\n|Abbotsford\tBC\tCan...| null|    null|  null|       null|\n| Aberdeen\tSD\tUSA\tABR| null|    null|  null|       null|\n|  Abilene\tTX\tUSA\tABI| null|    null|  null|       null|\n|    Akron\tOH\tUSA\tCAK| null|    null|  null|       null|\n|  Alamosa\tCO\tUSA\tALS| null|    null|  null|       null|\n|   Albany\tGA\tUSA\tABY| null|    null|  null|       null|\n|   Albany\tNY\tUSA\tALB| null|    null|  null|       null|\n|Albuquerque\tNM\tUS...| null|    null|  null|       null|\n|Alexandria\tLA\tUSA...| null|    null|  null|       null|\n|Allentown\tPA\tUSA\tABE| null|    null|  null|       null|\n+--------------------+-----+--------+------+-----------+\nonly showing top 10 rows\n\n"
     ]
    }
   ],
   "source": [
    "from pyspark.sql.functions import desc, asc, expr\n",
    "\n",
    "df.orderBy(expr(\"delay desc\")).show(10)"
   ]
  },
  {
   "cell_type": "code",
   "execution_count": 0,
   "metadata": {
    "application/vnd.databricks.v1+cell": {
     "cellMetadata": {
      "byteLimit": 2048000,
      "rowLimit": 10000
     },
     "inputWidgets": {},
     "nuid": "06721d99-df52-47a6-be6f-c9d32a538056",
     "showTitle": false,
     "tableResultSettingsMap": {},
     "title": ""
    }
   },
   "outputs": [
    {
     "output_type": "stream",
     "name": "stdout",
     "output_type": "stream",
     "text": [
      "+-------+--------------------+--------------------+--------------------+-------+-----------+\n|summary|                date|               delay|            distance| origin|destination|\n+-------+--------------------+--------------------+--------------------+-------+-----------+\n|  count|             1392106|             1391580|             1391579|1391578|    1391578|\n|   mean|   2180446.584000322|  12.079802928761449|   690.5508264718184|   null|       null|\n| stddev|   838031.1536741031|   38.80773374985648|    513.662815366331|   null|       null|\n|    min|\"Cap-aux-Meules, ...| airline and rout...| dataset can be f...|    ABE|        ABE|\n|    max|     Yuma\tAZ\tUSA\tYUM|                 995|                 999|    YUM|        YUM|\n+-------+--------------------+--------------------+--------------------+-------+-----------+\n\n"
     ]
    }
   ],
   "source": [
    "df.describe().show()"
   ]
  },
  {
   "cell_type": "code",
   "execution_count": 0,
   "metadata": {
    "application/vnd.databricks.v1+cell": {
     "cellMetadata": {
      "byteLimit": 2048000,
      "rowLimit": 10000
     },
     "collapsed": true,
     "inputWidgets": {},
     "nuid": "35ccf88c-706c-4c3b-b2bb-95bcc836ab1e",
     "showTitle": false,
     "tableResultSettingsMap": {},
     "title": ""
    }
   },
   "outputs": [
    {
     "output_type": "display_data",
     "data": {
      "text/html": [
       "<style scoped>\n",
       "  .ansiout {\n",
       "    display: block;\n",
       "    unicode-bidi: embed;\n",
       "    white-space: pre-wrap;\n",
       "    word-wrap: break-word;\n",
       "    word-break: break-all;\n",
       "    font-family: \"Menlo\", \"Monaco\", \"Consolas\", \"Ubuntu Mono\", \"Source Code Pro\", monospace;\n",
       "    font-size: 13px;\n",
       "    color: #555;\n",
       "    margin-left: 4px;\n",
       "    line-height: 19px;\n",
       "  }\n",
       "</style>"
      ]
     },
     "metadata": {
      "application/vnd.databricks.v1+output": {
       "arguments": {},
       "data": "",
       "errorSummary": "Cancelled",
       "errorTraceType": "html",
       "metadata": {},
       "type": "ipynbError"
      }
     },
     "output_type": "display_data"
    }
   ],
   "source": [
    "for i in df.collect():\n",
    "    print(i)\n",
    "    print(i[0], i[1] * 2)"
   ]
  },
  {
   "cell_type": "code",
   "execution_count": 0,
   "metadata": {
    "application/vnd.databricks.v1+cell": {
     "cellMetadata": {
      "byteLimit": 2048000,
      "rowLimit": 10000
     },
     "inputWidgets": {},
     "nuid": "992c5c71-bd59-4977-bc3b-682048cd0167",
     "showTitle": false,
     "tableResultSettingsMap": {},
     "title": ""
    }
   },
   "outputs": [
    {
     "output_type": "stream",
     "name": "stdout",
     "output_type": "stream",
     "text": [
      "+--------+-----+--------+------+-----------+--------+\n|    date|delay|distance|origin|destination|Delay +2|\n+--------+-----+--------+------+-----------+--------+\n|01011245|    6|     602|   ABE|        ATL|     8.0|\n|01020600|   -8|     369|   ABE|        DTW|    -6.0|\n|01021245|   -2|     602|   ABE|        ATL|     0.0|\n|01020605|   -4|     602|   ABE|        ATL|    -2.0|\n|01031245|   -4|     602|   ABE|        ATL|    -2.0|\n|01030605|    0|     602|   ABE|        ATL|     2.0|\n|01041243|   10|     602|   ABE|        ATL|    12.0|\n|01040605|   28|     602|   ABE|        ATL|    30.0|\n|01051245|   88|     602|   ABE|        ATL|    90.0|\n|01050605|    9|     602|   ABE|        ATL|    11.0|\n+--------+-----+--------+------+-----------+--------+\nonly showing top 10 rows\n\n"
     ]
    }
   ],
   "source": [
    "df = df.withColumn('Delay +2', df['delay'] +2)\n",
    "df.show(10)"
   ]
  },
  {
   "cell_type": "code",
   "execution_count": 0,
   "metadata": {
    "application/vnd.databricks.v1+cell": {
     "cellMetadata": {
      "byteLimit": 2048000,
      "rowLimit": 10000
     },
     "inputWidgets": {},
     "nuid": "a8bb04a1-2255-459e-bba1-3dca8a3a3988",
     "showTitle": false,
     "tableResultSettingsMap": {},
     "title": ""
    }
   },
   "outputs": [
    {
     "output_type": "stream",
     "name": "stdout",
     "output_type": "stream",
     "text": [
      "+--------+-----+--------+------+-----------+--------+\n|    date|delay|distance|origin|destination|Delay +2|\n+--------+-----+--------+------+-----------+--------+\n|01011245|    6|     602|   ABE|        ATL|     8.0|\n|01020600|   -8|     369|   ABE|        DTW|    -6.0|\n|01021245|   -2|     602|   ABE|        ATL|     0.0|\n|01020605|   -4|     602|   ABE|        ATL|    -2.0|\n|01031245|   -4|     602|   ABE|        ATL|    -2.0|\n|01030605|    0|     602|   ABE|        ATL|     2.0|\n|01041243|   10|     602|   ABE|        ATL|    12.0|\n|01040605|   28|     602|   ABE|        ATL|    30.0|\n|01051245|   88|     602|   ABE|        ATL|    90.0|\n|01050605|    9|     602|   ABE|        ATL|    11.0|\n+--------+-----+--------+------+-----------+--------+\nonly showing top 10 rows\n\n"
     ]
    }
   ],
   "source": [
    "df = df.drop('Nova Coluna')\n",
    "df.show(10)"
   ]
  },
  {
   "cell_type": "code",
   "execution_count": 0,
   "metadata": {
    "application/vnd.databricks.v1+cell": {
     "cellMetadata": {
      "byteLimit": 2048000,
      "rowLimit": 10000
     },
     "inputWidgets": {},
     "nuid": "5c3adca1-3542-434a-b7ff-a596daf9413b",
     "showTitle": false,
     "tableResultSettingsMap": {},
     "title": ""
    }
   },
   "outputs": [
    {
     "output_type": "stream",
     "name": "stdout",
     "output_type": "stream",
     "text": [
      "+--------+-----+--------+------+-----------+------------+\n|    date|delay|distance|origin|destination|Delay soma 2|\n+--------+-----+--------+------+-----------+------------+\n|01011245|    6|     602|   ABE|        ATL|         8.0|\n|01020600|   -8|     369|   ABE|        DTW|        -6.0|\n|01021245|   -2|     602|   ABE|        ATL|         0.0|\n|01020605|   -4|     602|   ABE|        ATL|        -2.0|\n|01031245|   -4|     602|   ABE|        ATL|        -2.0|\n|01030605|    0|     602|   ABE|        ATL|         2.0|\n|01041243|   10|     602|   ABE|        ATL|        12.0|\n|01040605|   28|     602|   ABE|        ATL|        30.0|\n|01051245|   88|     602|   ABE|        ATL|        90.0|\n|01050605|    9|     602|   ABE|        ATL|        11.0|\n+--------+-----+--------+------+-----------+------------+\nonly showing top 10 rows\n\n"
     ]
    }
   ],
   "source": [
    "df.withColumnRenamed('Delay +2', 'Delay soma 2').show(10)"
   ]
  },
  {
   "cell_type": "code",
   "execution_count": 0,
   "metadata": {
    "application/vnd.databricks.v1+cell": {
     "cellMetadata": {
      "byteLimit": 2048000,
      "rowLimit": 10000
     },
     "inputWidgets": {},
     "nuid": "5cc06e53-b878-43ac-a7e8-5ac8de9ee2ae",
     "showTitle": false,
     "tableResultSettingsMap": {},
     "title": ""
    }
   },
   "outputs": [
    {
     "output_type": "stream",
     "name": "stdout",
     "output_type": "stream",
     "text": [
      "+--------------------+-----+--------+------+-----------+--------+\n|                date|delay|distance|origin|destination|Delay +2|\n+--------------------+-----+--------+------+-----------+--------+\n|Abbotsford\tBC\tCan...| null|    null|  null|       null|    null|\n| Aberdeen\tSD\tUSA\tABR| null|    null|  null|       null|    null|\n|  Abilene\tTX\tUSA\tABI| null|    null|  null|       null|    null|\n|    Akron\tOH\tUSA\tCAK| null|    null|  null|       null|    null|\n|  Alamosa\tCO\tUSA\tALS| null|    null|  null|       null|    null|\n|   Albany\tGA\tUSA\tABY| null|    null|  null|       null|    null|\n|   Albany\tNY\tUSA\tALB| null|    null|  null|       null|    null|\n|Albuquerque\tNM\tUS...| null|    null|  null|       null|    null|\n|Alexandria\tLA\tUSA...| null|    null|  null|       null|    null|\n|Allentown\tPA\tUSA\tABE| null|    null|  null|       null|    null|\n| Alliance\tNE\tUSA\tAIA| null|    null|  null|       null|    null|\n|   Alpena\tMI\tUSA\tAPN| null|    null|  null|       null|    null|\n|  Altoona\tPA\tUSA\tAOO| null|    null|  null|       null|    null|\n| Amarillo\tTX\tUSA\tAMA| null|    null|  null|       null|    null|\n|Anahim Lake\tBC\tCa...| null|    null|  null|       null|    null|\n|Anchorage\tAK\tUSA\tANC| null|    null|  null|       null|    null|\n| Appleton\tWI\tUSA\tATW| null|    null|  null|       null|    null|\n|Arviat\tNWT\tCanada...| null|    null|  null|       null|    null|\n|Asheville\tNC\tUSA\tAVL| null|    null|  null|       null|    null|\n|    Aspen\tCO\tUSA\tASE| null|    null|  null|       null|    null|\n+--------------------+-----+--------+------+-----------+--------+\nonly showing top 20 rows\n\n"
     ]
    }
   ],
   "source": [
    "df.filter(\"delay is NULL\").show()"
   ]
  },
  {
   "cell_type": "code",
   "execution_count": 0,
   "metadata": {
    "application/vnd.databricks.v1+cell": {
     "cellMetadata": {
      "byteLimit": 2048000,
      "rowLimit": 10000
     },
     "inputWidgets": {},
     "nuid": "d21360ac-ef2d-4b19-bbda-8b8d89c3ba30",
     "showTitle": false,
     "tableResultSettingsMap": {},
     "title": ""
    }
   },
   "outputs": [
    {
     "output_type": "stream",
     "name": "stdout",
     "output_type": "stream",
     "text": [
      "+--------------------+-----+--------+------+-----------+--------+\n|                date|delay|distance|origin|destination|Delay +2|\n+--------------------+-----+--------+------+-----------+--------+\n|Abbotsford\tBC\tCan...| null|    null|  null|       null|    null|\n| Aberdeen\tSD\tUSA\tABR| null|    null|  null|       null|    null|\n|  Abilene\tTX\tUSA\tABI| null|    null|  null|       null|    null|\n|    Akron\tOH\tUSA\tCAK| null|    null|  null|       null|    null|\n|  Alamosa\tCO\tUSA\tALS| null|    null|  null|       null|    null|\n|   Albany\tGA\tUSA\tABY| null|    null|  null|       null|    null|\n|   Albany\tNY\tUSA\tALB| null|    null|  null|       null|    null|\n|Albuquerque\tNM\tUS...| null|    null|  null|       null|    null|\n|Alexandria\tLA\tUSA...| null|    null|  null|       null|    null|\n|Allentown\tPA\tUSA\tABE| null|    null|  null|       null|    null|\n+--------------------+-----+--------+------+-----------+--------+\nonly showing top 10 rows\n\n"
     ]
    }
   ],
   "source": [
    "df.filter(df.delay.isNull()).show(10)"
   ]
  },
  {
   "cell_type": "code",
   "execution_count": 0,
   "metadata": {
    "application/vnd.databricks.v1+cell": {
     "cellMetadata": {
      "byteLimit": 2048000,
      "rowLimit": 10000
     },
     "inputWidgets": {},
     "nuid": "e5bed653-0d69-498a-8bc6-05d841175d8d",
     "showTitle": false,
     "tableResultSettingsMap": {},
     "title": ""
    }
   },
   "outputs": [
    {
     "output_type": "stream",
     "name": "stdout",
     "output_type": "stream",
     "text": [
      "+--------+-----+--------+------+-----------+--------+\n|    date|delay|distance|origin|destination|Delay +2|\n+--------+-----+--------+------+-----------+--------+\n|01011245|    6|     602|   ABE|        ATL|     8.0|\n|01020600|   -8|     369|   ABE|        DTW|    -6.0|\n|01021245|   -2|     602|   ABE|        ATL|     0.0|\n|01020605|   -4|     602|   ABE|        ATL|    -2.0|\n|01031245|   -4|     602|   ABE|        ATL|    -2.0|\n|01030605|    0|     602|   ABE|        ATL|     2.0|\n|01041243|   10|     602|   ABE|        ATL|    12.0|\n|01040605|   28|     602|   ABE|        ATL|    30.0|\n|01051245|   88|     602|   ABE|        ATL|    90.0|\n|01050605|    9|     602|   ABE|        ATL|    11.0|\n|01061215|   -6|     602|   ABE|        ATL|    -4.0|\n|01061725|   69|     602|   ABE|        ATL|    71.0|\n|01061230|    0|     369|   ABE|        DTW|     2.0|\n|01060625|   -3|     602|   ABE|        ATL|    -1.0|\n|01070600|    0|     369|   ABE|        DTW|     2.0|\n|01071725|    0|     602|   ABE|        ATL|     2.0|\n|01071230|    0|     369|   ABE|        DTW|     2.0|\n|01070625|    0|     602|   ABE|        ATL|     2.0|\n|01071219|    0|     569|   ABE|        ORD|     2.0|\n|01080600|    0|     369|   ABE|        DTW|     2.0|\n+--------+-----+--------+------+-----------+--------+\nonly showing top 20 rows\n\n"
     ]
    }
   ],
   "source": [
    "df.na.fill(value = 0).show()"
   ]
  },
  {
   "cell_type": "code",
   "execution_count": 0,
   "metadata": {
    "application/vnd.databricks.v1+cell": {
     "cellMetadata": {},
     "inputWidgets": {},
     "nuid": "75528ae3-45e9-40ce-baf1-8fc7631813fa",
     "showTitle": false,
     "tableResultSettingsMap": {},
     "title": ""
    }
   },
   "outputs": [],
   "source": [
    "#Preenche dados missing apenas da coluna especificada, nesse caso delay\n",
    "df.na.fill(value = 0, subset=['delay']).show()"
   ]
  },
  {
   "cell_type": "code",
   "execution_count": 0,
   "metadata": {
    "application/vnd.databricks.v1+cell": {
     "cellMetadata": {
      "byteLimit": 2048000,
      "rowLimit": 10000
     },
     "inputWidgets": {},
     "nuid": "3e3a36f1-c81c-4350-a946-7f4bd3bcf11c",
     "showTitle": false,
     "tableResultSettingsMap": {},
     "title": ""
    }
   },
   "outputs": [
    {
     "output_type": "stream",
     "name": "stdout",
     "output_type": "stream",
     "text": [
      "+--------+-----+--------+------+-----------+--------+\n|    date|delay|distance|origin|destination|Delay +2|\n+--------+-----+--------+------+-----------+--------+\n|01011245|    6|     602|   ABE|        ATL|     8.0|\n|01020600|   -8|     369|   ABE|        DTW|    -6.0|\n|01021245|   -2|     602|   ABE|        ATL|     0.0|\n|01020605|   -4|     602|   ABE|        ATL|    -2.0|\n|01031245|   -4|     602|   ABE|        ATL|    -2.0|\n|01030605|    0|     602|   ABE|        ATL|     2.0|\n|01041243|   10|     602|   ABE|        ATL|    12.0|\n|01040605|   28|     602|   ABE|        ATL|    30.0|\n|01051245|   88|     602|   ABE|        ATL|    90.0|\n|01050605|    9|     602|   ABE|        ATL|    11.0|\n|01061215|   -6|     602|   ABE|        ATL|    -4.0|\n|01061725|   69|     602|   ABE|        ATL|    71.0|\n|01061230|    0|     369|   ABE|        DTW|     2.0|\n|01060625|   -3|     602|   ABE|        ATL|    -1.0|\n|01070600|    0|     369|   ABE|        DTW|     2.0|\n|01071725|    0|     602|   ABE|        ATL|     2.0|\n|01071230|    0|     369|   ABE|        DTW|     2.0|\n|01070625|    0|     602|   ABE|        ATL|     2.0|\n|01071219|    0|     569|   ABE|        ORD|     2.0|\n|01080600|    0|     369|   ABE|        DTW|     2.0|\n+--------+-----+--------+------+-----------+--------+\nonly showing top 20 rows\n\n"
     ]
    }
   ],
   "source": [
    "df.na.fill(\"\").show()"
   ]
  },
  {
   "cell_type": "code",
   "execution_count": 0,
   "metadata": {
    "application/vnd.databricks.v1+cell": {
     "cellMetadata": {
      "byteLimit": 2048000,
      "rowLimit": 10000
     },
     "inputWidgets": {},
     "nuid": "19510c88-7f74-49b4-8783-99e6cfff42e7",
     "showTitle": false,
     "tableResultSettingsMap": {},
     "title": ""
    }
   },
   "outputs": [
    {
     "output_type": "stream",
     "name": "stdout",
     "output_type": "stream",
     "text": [
      "+--------+-----+--------+------+-----------+--------+\n|    date|delay|distance|origin|destination|Delay +2|\n+--------+-----+--------+------+-----------+--------+\n|01011245|    6|     602|   ABE|        ATL|     8.0|\n|01020600|   -8|     369|   ABE|        DTW|    -6.0|\n|01021245|   -2|     602|   ABE|        ATL|     0.0|\n|01020605|   -4|     602|   ABE|        ATL|    -2.0|\n|01031245|   -4|     602|   ABE|        ATL|    -2.0|\n|01030605|    0|     602|   ABE|        ATL|     2.0|\n|01041243|   10|     602|   ABE|        ATL|    12.0|\n|01040605|   28|     602|   ABE|        ATL|    30.0|\n|01051245|   88|     602|   ABE|        ATL|    90.0|\n|01050605|    9|     602|   ABE|        ATL|    11.0|\n|01061215|   -6|     602|   ABE|        ATL|    -4.0|\n|01061725|   69|     602|   ABE|        ATL|    71.0|\n|01061230|    0|     369|   ABE|        DTW|     2.0|\n|01060625|   -3|     602|   ABE|        ATL|    -1.0|\n|01070600|    0|     369|   ABE|        DTW|     2.0|\n|01071725|    0|     602|   ABE|        ATL|     2.0|\n|01071230|    0|     369|   ABE|        DTW|     2.0|\n|01070625|    0|     602|   ABE|        ATL|     2.0|\n|01071219|    0|     569|   ABE|        ORD|     2.0|\n|01080600|    0|     369|   ABE|        DTW|     2.0|\n+--------+-----+--------+------+-----------+--------+\nonly showing top 20 rows\n\n"
     ]
    }
   ],
   "source": [
    "df.na.drop().show()"
   ]
  },
  {
   "cell_type": "markdown",
   "metadata": {
    "application/vnd.databricks.v1+cell": {
     "cellMetadata": {
      "byteLimit": 2048000,
      "rowLimit": 10000
     },
     "inputWidgets": {},
     "nuid": "9bf08d04-64c3-4abc-8c30-06a02494a6b4",
     "showTitle": false,
     "tableResultSettingsMap": {},
     "title": ""
    }
   },
   "source": []
  },
  {
   "cell_type": "markdown",
   "metadata": {
    "application/vnd.databricks.v1+cell": {
     "cellMetadata": {
      "byteLimit": 2048000,
      "rowLimit": 10000
     },
     "inputWidgets": {},
     "nuid": "281bd01e-e69c-40b4-9c7b-7db25417b207",
     "showTitle": false,
     "tableResultSettingsMap": {},
     "title": ""
    }
   },
   "source": []
  }
 ],
 "metadata": {
  "application/vnd.databricks.v1+notebook": {
   "computePreferences": null,
   "dashboards": [],
   "environmentMetadata": {
    "base_environment": "",
    "client": "1"
   },
   "language": "python",
   "notebookMetadata": {
    "pythonIndentUnit": 4
   },
   "notebookName": "Untitled Notebook 2025-01-26 18:06:29",
   "widgets": {}
  }
 },
 "nbformat": 4,
 "nbformat_minor": 0
}
